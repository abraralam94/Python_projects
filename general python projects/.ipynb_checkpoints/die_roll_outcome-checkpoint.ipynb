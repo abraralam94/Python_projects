{
 "cells": [
  {
   "cell_type": "code",
   "execution_count": 1,
   "metadata": {},
   "outputs": [
    {
     "name": "stdout",
     "output_type": "stream",
     "text": [
      "Requirement already satisfied: plotly in c:\\users\\xxxxx\\appdata\\roaming\\python\\python37\\site-packages (4.8.1)\n",
      "Requirement already satisfied: retrying>=1.3.3 in c:\\users\\xxxxx\\appdata\\roaming\\python\\python37\\site-packages (from plotly) (1.3.3)\n",
      "Requirement already satisfied: six in c:\\users\\xxxxx\\anaconda3\\lib\\site-packages (from plotly) (1.14.0)\n"
     ]
    }
   ],
   "source": [
    "!pip install plotly"
   ]
  },
  {
   "cell_type": "code",
   "execution_count": null,
   "metadata": {},
   "outputs": [],
   "source": [
    "#Lets define a generic die class "
   ]
  },
  {
   "cell_type": "code",
   "execution_count": 4,
   "metadata": {},
   "outputs": [],
   "source": [
    "from random import randint\n",
    "\n",
    "class Die:\n",
    "\t\"\"\"A class representing a single die\"\"\"\n",
    "\n",
    "\tdef __init__(self, numOfSide = 6):\n",
    "\t\t\"\"\"A six sided die is assumed\"\"\"\n",
    "\t\tself.numOfSide = numOfSide\n",
    "\n",
    "\tdef roll(self):\n",
    "\t\t\"\"\"Return a random number between 1 and numOfSide\"\"\"\n",
    "\t\treturn randint(1, self.numOfSide)"
   ]
  },
  {
   "cell_type": "code",
   "execution_count": null,
   "metadata": {},
   "outputs": [],
   "source": [
    "# The code below is for visualization of a single 6 sided die outcomes"
   ]
  },
  {
   "cell_type": "code",
   "execution_count": 5,
   "metadata": {},
   "outputs": [
    {
     "data": {
      "text/plain": [
       "'six_sided_die.html'"
      ]
     },
     "execution_count": 5,
     "metadata": {},
     "output_type": "execute_result"
    }
   ],
   "source": [
    "from plotly.graph_objs import Bar, Layout\n",
    "from plotly import offline\n",
    "\n",
    "\n",
    "\n",
    "# let's create a 6 sided die\n",
    "die = Die()\n",
    "\n",
    "# A list to store roll result\n",
    "results = []\n",
    "\n",
    "# let's roll our die 100 times and store the result in the list\n",
    "for x in range(1000):\n",
    "\troll_result = die.roll()\n",
    "\tresults.append(roll_result)\n",
    "\n",
    "\n",
    "# let's analyze the results\n",
    "frequencies = []\n",
    "\n",
    "for x in range (1, die.numOfSide + 1):\n",
    "\tindividual_frequency = results.count(x)\n",
    "\tfrequencies.append(individual_frequency)\n",
    "\n",
    "#print(frequencies)\n",
    "# Visualization code\n",
    "x_val = list(range(1, die.numOfSide + 1))\n",
    "data = [Bar(x = x_val, y = frequencies)]\n",
    "\n",
    "x_axis_config = {'title' : 'Outcome of die'}\n",
    "y_axis_config = {'title' : 'Frequency'}\n",
    "\n",
    "my_layout = Layout(title = 'Results of rolling one D6 1000 times', xaxis = x_axis_config, yaxis = y_axis_config)\n",
    "\n",
    "offline.plot({'data': data, 'layout': my_layout}, filename='six_sided_die.html')\n"
   ]
  },
  {
   "cell_type": "code",
   "execution_count": 6,
   "metadata": {},
   "outputs": [
    {
     "name": "stderr",
     "output_type": "stream",
     "text": [
      "No handles with labels found to put in legend.\n"
     ]
    },
    {
     "data": {
      "image/png": "[encoded data removed]",
      "text/plain": [
       "<Figure size 432x288 with 1 Axes>"
      ]
     },
     "metadata": {
      "needs_background": "light"
     },
     "output_type": "display_data"
    }
   ],
   "source": [
    "# see the file named 'six_sided_die.html' for the bar graph\n",
    "import matplotlib.pyplot as plt\n",
    "import numpy as np\n",
    "\n",
    "labels = x_val\n",
    "#men_means = [20, 34, 30, 35, 27]\n",
    "#women_means = [25, 32, 34, 20, 25]\n",
    "x = np.arange(len(labels))  # the label locations\n",
    "width = 0.70  # the width of the bars(I changed)\n",
    "\n",
    "fig, ax = plt.subplots()\n",
    "rects1 = ax.bar(x, frequencies, width, label='')\n",
    "#rects2 = ax.bar(x + width/2, women_means, width, label='Women')\n",
    "\n",
    "# Add some text for labels, title and custom x-axis tick labels, etc.\n",
    "ax.set_ylabel('Frequency')\n",
    "ax.set_title('Frequency of outcome of a 6 sided die')\n",
    "ax.set_xticks(x)\n",
    "ax.set_xticklabels(labels)\n",
    "ax.legend()\n",
    "                \n",
    "fig.tight_layout()\n",
    "\n",
    "plt.show()"
   ]
  },
  {
   "cell_type": "code",
   "execution_count": null,
   "metadata": {},
   "outputs": [],
   "source": [
    "# Now lets visualize the combined oucome of two six sided dice"
   ]
  },
  {
   "cell_type": "code",
   "execution_count": 7,
   "metadata": {},
   "outputs": [
    {
     "data": {
      "text/plain": [
       "'two_six_sided_die.html'"
      ]
     },
     "execution_count": 7,
     "metadata": {},
     "output_type": "execute_result"
    }
   ],
   "source": [
    "from plotly.graph_objs import Bar, Layout\n",
    "from plotly import offline\n",
    "import plotly.graph_objects as go\n",
    "\n",
    "\n",
    "# let's two 6 sided die\n",
    "die1 = Die()\n",
    "die2 = Die()\n",
    "# A list to store roll result\n",
    "results = []\n",
    "\n",
    "# let's roll our die 100 times and store the result in the list\n",
    "for x in range(1000):\n",
    "\troll_result = die1.roll() + die2.roll()\n",
    "\tresults.append(roll_result)\n",
    "\n",
    "# let's analyze the results\n",
    "frequencies = []\n",
    "\n",
    "for x in range (2, (2*die1.numOfSide) + 1):\n",
    "\tindividual_frequency = results.count(x)\n",
    "\tfrequencies.append(individual_frequency)\n",
    "\n",
    "#print(frequencies)\n",
    "# Visualization code\n",
    "x_val = list(range(2, (2*die1.numOfSide) + 1))\n",
    "data = Bar(x = x_val, y = frequencies)\n",
    "\n",
    "x_axis_config = {'title' : 'Outcome of a pair of 6 sided dice', 'dtick' : 1}\n",
    "y_axis_config = {'title' : 'Frequency'}\n",
    "\n",
    "my_layout = Layout(title = 'Results of rolling two D6 1000 times', xaxis = x_axis_config, yaxis = y_axis_config)\n",
    "\n",
    "offline.plot({'data': data, 'layout': my_layout}, filename='two_six_sided_die.html')"
   ]
  },
  {
   "cell_type": "code",
   "execution_count": null,
   "metadata": {},
   "outputs": [],
   "source": [
    "# see the file named 'six_sided_die.html' for the bar graph"
   ]
  },
  {
   "cell_type": "code",
   "execution_count": 8,
   "metadata": {},
   "outputs": [
    {
     "name": "stderr",
     "output_type": "stream",
     "text": [
      "No handles with labels found to put in legend.\n"
     ]
    },
    {
     "data": {
      "image/png": "[encoded data removed]",
      "text/plain": [
       "<Figure size 432x288 with 1 Axes>"
      ]
     },
     "metadata": {
      "needs_background": "light"
     },
     "output_type": "display_data"
    }
   ],
   "source": [
    "import matplotlib.pyplot as plt\n",
    "import numpy as np\n",
    "\n",
    "labels = x_val\n",
    "#men_means = [20, 34, 30, 35, 27]\n",
    "#women_means = [25, 32, 34, 20, 25]\n",
    "x = np.arange(len(labels))  # the label locations\n",
    "width = 0.70  # the width of the bars(I changed)\n",
    "\n",
    "fig, ax = plt.subplots()\n",
    "rects1 = ax.bar(x, frequencies, width, label='')\n",
    "#rects2 = ax.bar(x + width/2, women_means, width, label='Women')\n",
    "\n",
    "# Add some text for labels, title and custom x-axis tick labels, etc.\n",
    "ax.set_ylabel('Frequency')\n",
    "ax.set_title('Frequency of outcome of two 6 sided dice')\n",
    "ax.set_xticks(x)\n",
    "ax.set_xticklabels(labels)\n",
    "ax.legend()\n",
    "                \n",
    "fig.tight_layout()\n",
    "\n",
    "plt.show()"
   ]
  }
 ],
 "metadata": {
  "kernelspec": {
   "display_name": "Python 3",
   "language": "python",
   "name": "python3"
  },
  "language_info": {
   "codemirror_mode": {
    "name": "ipython",
    "version": 3
   },
   "file_extension": ".py",
   "mimetype": "text/x-python",
   "name": "python",
   "nbconvert_exporter": "python",
   "pygments_lexer": "ipython3",
   "version": "3.8.5"
  }
 },
 "nbformat": 4,
 "nbformat_minor": 4
}
