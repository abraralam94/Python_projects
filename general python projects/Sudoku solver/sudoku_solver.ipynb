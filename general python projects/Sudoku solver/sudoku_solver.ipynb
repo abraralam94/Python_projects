{
 "cells": [
  {
   "cell_type": "code",
   "execution_count": 1,
   "metadata": {},
   "outputs": [],
   "source": [
    "grid = [[5,3,0,0,7,0,0,0,0],\n",
    "        [6,0,0,1,9,5,0,0,0],\n",
    "        [0,9,8,0,0,0,0,6,0],\n",
    "        [8,0,0,0,6,0,0,0,3],\n",
    "        [4,0,0,8,0,3,0,0,1],\n",
    "        [7,0,0,0,2,0,0,0,6],\n",
    "        [0,6,0,0,0,0,2,8,0],\n",
    "        [0,0,0,4,1,9,0,0,5],\n",
    "        [0,0,0,0,8,0,0,7,9]]"
   ]
  },
  {
   "cell_type": "code",
   "execution_count": 2,
   "metadata": {},
   "outputs": [],
   "source": [
    "#A helper function to varify \n",
    "\n",
    "def legal(x_coord, y_coord, value):\n",
    "    \n",
    "    # First we check for a duplicate value along the the column given by parameter x_coord, \n",
    "    # while keeping x coordinate fixed\n",
    "    # So we check all the rows gievn by i\n",
    "    for i in range(0,9):\n",
    "        if(grid[i][x_coord] == value):\n",
    "            return False\n",
    "    # Now we check along the rows for any duplicate values. Thus we keep y_coord fixed\n",
    "    for j in range(0,9):\n",
    "        if(grid[y_coord][j]==value):\n",
    "            return False\n",
    "    \n",
    "    #lastly we must check whether whether we have the same value in the subcell\n",
    "    \n",
    "    x_prime = (x_coord//3)*3\n",
    "    y_prime = (y_coord//3)*3\n",
    "    for x in range (x_prime, x_prime+3):\n",
    "        for y in range(y_prime, y_prime+3):\n",
    "            if(grid[x][y]==value):\n",
    "                return False\n",
    "    return True\n",
    "        "
   ]
  },
  {
   "cell_type": "code",
   "execution_count": 9,
   "metadata": {},
   "outputs": [
    {
     "name": "stdout",
     "output_type": "stream",
     "text": [
      "False\n",
      "False\n",
      "True\n"
     ]
    }
   ],
   "source": [
    "## Check the helper function above\n",
    "print(legal(3,3,2))\n",
    "print(legal(0,2,3))\n",
    "print(legal(0,2,1))"
   ]
  },
  {
   "cell_type": "code",
   "execution_count": 41,
   "metadata": {},
   "outputs": [],
   "source": [
    "#Now we define a stack to keep track of our visited grid. This will be useful in backtracking\n",
    "# This will be a list of tuples\n",
    "\n",
    "visited_cells =[]"
   ]
  },
  {
   "cell_type": "code",
   "execution_count": 38,
   "metadata": {},
   "outputs": [],
   "source": [
    "# A global flag variable to store whether we have encountered a deadend (backtrack condition) or not\n",
    "deadLock=False #Default was no deadend"
   ]
  },
  {
   "cell_type": "code",
   "execution_count": 17,
   "metadata": {},
   "outputs": [],
   "source": [
    "# a helper method to tell us whether we have finished inserting all the valid values\n",
    "# meaning finished the game or not\n",
    "def completed():\n",
    "    for x in range(0, 9):\n",
    "        if 0 in grid[x]:\n",
    "            return False\n",
    "    return True\n",
    "            "
   ]
  },
  {
   "cell_type": "code",
   "execution_count": 10,
   "metadata": {},
   "outputs": [
    {
     "data": {
      "text/plain": [
       "False"
      ]
     },
     "execution_count": 10,
     "metadata": {},
     "output_type": "execute_result"
    }
   ],
   "source": [
    "completed()"
   ]
  },
  {
   "cell_type": "code",
   "execution_count": 39,
   "metadata": {},
   "outputs": [],
   "source": [
    "#Another helper method to just give us a new location, or a last visted cell in case we backtrack\n",
    "def nextCellLocation():\n",
    "    if len(visited_cells) == 0: # The starting condition\n",
    "        return 0,0\n",
    "    elif deadLock: \n",
    "        temp = visited_cells.pop()\n",
    "        return temp(0), temp(1)\n",
    "    else:\n",
    "        for x, #to be continued from here\n",
    "\n",
    "        \n",
    "        \n",
    "    "
   ]
  },
  {
   "cell_type": "code",
   "execution_count": 42,
   "metadata": {},
   "outputs": [],
   "source": [
    "#test the above method\n",
    "alpha, beta = (nextCellLocation())\n",
    "print(alpha, beta)"
   ]
  },
  {
   "cell_type": "code",
   "execution_count": null,
   "metadata": {},
   "outputs": [],
   "source": [
    "# Now we get to solve the grid\n",
    "#Algorithm:\n",
    "# 1. start from the first cell which is zero.\n",
    "# 2. Check legality of each value starting from 1\n",
    "# 3. Whenever you find a legal value, insert that value into that cell\n",
    "# 4. if no legal value is found, pop the visited_cells stack, and move back to the popped cell location\n",
    "# 5. Repeat step 2 to 4.\n",
    "# Note: we need to check grids which contains a value of zero, and we only check at most 81 times\n",
    "\n",
    "def solve():\n",
    "    \n",
    "    \n",
    "    "
   ]
  }
 ],
 "metadata": {
  "kernelspec": {
   "display_name": "Python 3",
   "language": "python",
   "name": "python3"
  },
  "language_info": {
   "codemirror_mode": {
    "name": "ipython",
    "version": 3
   },
   "file_extension": ".py",
   "mimetype": "text/x-python",
   "name": "python",
   "nbconvert_exporter": "python",
   "pygments_lexer": "ipython3",
   "version": "3.8.5"
  }
 },
 "nbformat": 4,
 "nbformat_minor": 4
}
