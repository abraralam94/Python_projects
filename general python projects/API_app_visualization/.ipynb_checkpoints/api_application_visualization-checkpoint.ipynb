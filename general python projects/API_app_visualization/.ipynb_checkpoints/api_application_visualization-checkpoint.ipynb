{
 "cells": [
  {
   "cell_type": "code",
   "execution_count": 4,
   "metadata": {},
   "outputs": [
    {
     "name": "stdout",
     "output_type": "stream",
     "text": [
      "status code: 200\n",
      "Total repositories' :1468824\n"
     ]
    }
   ],
   "source": [
    "import requests\n",
    "from plotly.graph_objs import Bar\n",
    "from plotly import offline \n",
    "\n",
    "# We make an API call to Github and store the response, in this case we are\n",
    "# interested in the number of stars gained (popularity) by various python projects\n",
    "url = 'https://api.github.com/search/repositories?q=language:Java&sort=stars'\n",
    "headers = {'Accept': 'application/vnd.github.v3+json'} \n",
    "r = requests.get(url, headers = headers)\n",
    "print(\"status code: {}\".format(r.status_code))\n",
    "# Process results\n",
    "response_dict = r.json()\n",
    "repo_dicts = response_dict['items']\n",
    "repo_names, bar_label, repo_links = [], [], []\n",
    "stars = []\n",
    "for repo_dict in repo_dicts:\n",
    "\trepo_name = repo_dict['name']\n",
    "\tstars.append(repo_dict['stargazers_count'])\n",
    "\towner = repo_dict['owner']['login']\n",
    "\tdescription = repo_dict['description']\n",
    "\tlabel = \"{} <br /> {}\".format(owner, description)\n",
    "\tbar_label.append(label)\n",
    "\trepo_url = repo_dict['html_url']\n",
    "\trepo_link = \"<a href= '{}'>{}</a>\".format(repo_url, repo_name)\n",
    "\trepo_links.append(repo_link)\n",
    "# Make visualization\n",
    "data = [{\n",
    "\t'type' : 'bar',\n",
    "\t'x' : repo_links,\n",
    "\t'y' : stars,\n",
    "\t'hovertext' : bar_label\n",
    "}]\n",
    "my_layout = {\n",
    "\t'title' : 'Most popular Java projects on Github',\n",
    "\t'xaxis' : {'title' : 'Repository'},\n",
    "\t'yaxis' : {'title' : 'Stars'}\n",
    "}\n",
    "fig = {'data' : data, 'layout' : my_layout}\n",
    "offline.plot(fig, filename = 'popularity_of_py_repos.html')\n",
    "print(\"Total repositories' :{}\".format(response_dict['total_count']))\n",
    "\n"
   ]
  },
  {
   "cell_type": "markdown",
   "metadata": {},
   "source": [
    "##### See the 'popularity_of_py_repos.html' file for the complete interactive graph. However I have included a screen-shot below for viewers' convenience"
   ]
  },
  {
   "cell_type": "code",
   "execution_count": null,
   "metadata": {},
   "outputs": [],
   "source": []
  }
 ],
 "metadata": {
  "kernelspec": {
   "display_name": "Python 3",
   "language": "python",
   "name": "python3"
  },
  "language_info": {
   "codemirror_mode": {
    "name": "ipython",
    "version": 3
   },
   "file_extension": ".py",
   "mimetype": "text/x-python",
   "name": "python",
   "nbconvert_exporter": "python",
   "pygments_lexer": "ipython3",
   "version": "3.7.6"
  }
 },
 "nbformat": 4,
 "nbformat_minor": 4
}
